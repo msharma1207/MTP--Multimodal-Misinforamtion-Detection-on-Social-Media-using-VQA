{
  "nbformat": 4,
  "nbformat_minor": 0,
  "metadata": {
    "colab": {
      "provenance": []
    },
    "kernelspec": {
      "name": "python3",
      "display_name": "Python 3"
    },
    "language_info": {
      "name": "python"
    }
  },
  "cells": [
    {
      "cell_type": "code",
      "source": [
        "!pip install transformers"
      ],
      "metadata": {
        "colab": {
          "base_uri": "https://localhost:8080/"
        },
        "id": "POXp-4CetIgm",
        "outputId": "d0a2554b-3306-48d6-c9a8-ff339eaae483"
      },
      "execution_count": 1,
      "outputs": [
        {
          "output_type": "stream",
          "name": "stdout",
          "text": [
            "Looking in indexes: https://pypi.org/simple, https://us-python.pkg.dev/colab-wheels/public/simple/\n",
            "Collecting transformers\n",
            "  Downloading transformers-4.28.1-py3-none-any.whl (7.0 MB)\n",
            "\u001b[2K     \u001b[90m━━━━━━━━━━━━━━━━━━━━━━━━━━━━━━━━━━━━━━━━\u001b[0m \u001b[32m7.0/7.0 MB\u001b[0m \u001b[31m39.0 MB/s\u001b[0m eta \u001b[36m0:00:00\u001b[0m\n",
            "\u001b[?25hRequirement already satisfied: requests in /usr/local/lib/python3.9/dist-packages (from transformers) (2.27.1)\n",
            "Requirement already satisfied: regex!=2019.12.17 in /usr/local/lib/python3.9/dist-packages (from transformers) (2022.10.31)\n",
            "Requirement already satisfied: filelock in /usr/local/lib/python3.9/dist-packages (from transformers) (3.12.0)\n",
            "Requirement already satisfied: pyyaml>=5.1 in /usr/local/lib/python3.9/dist-packages (from transformers) (6.0)\n",
            "Requirement already satisfied: packaging>=20.0 in /usr/local/lib/python3.9/dist-packages (from transformers) (23.1)\n",
            "Collecting tokenizers!=0.11.3,<0.14,>=0.11.1\n",
            "  Downloading tokenizers-0.13.3-cp39-cp39-manylinux_2_17_x86_64.manylinux2014_x86_64.whl (7.8 MB)\n",
            "\u001b[2K     \u001b[90m━━━━━━━━━━━━━━━━━━━━━━━━━━━━━━━━━━━━━━━━\u001b[0m \u001b[32m7.8/7.8 MB\u001b[0m \u001b[31m94.1 MB/s\u001b[0m eta \u001b[36m0:00:00\u001b[0m\n",
            "\u001b[?25hRequirement already satisfied: numpy>=1.17 in /usr/local/lib/python3.9/dist-packages (from transformers) (1.22.4)\n",
            "Collecting huggingface-hub<1.0,>=0.11.0\n",
            "  Downloading huggingface_hub-0.14.1-py3-none-any.whl (224 kB)\n",
            "\u001b[2K     \u001b[90m━━━━━━━━━━━━━━━━━━━━━━━━━━━━━━━━━━━━━━\u001b[0m \u001b[32m224.5/224.5 kB\u001b[0m \u001b[31m14.8 MB/s\u001b[0m eta \u001b[36m0:00:00\u001b[0m\n",
            "\u001b[?25hRequirement already satisfied: tqdm>=4.27 in /usr/local/lib/python3.9/dist-packages (from transformers) (4.65.0)\n",
            "Requirement already satisfied: typing-extensions>=3.7.4.3 in /usr/local/lib/python3.9/dist-packages (from huggingface-hub<1.0,>=0.11.0->transformers) (4.5.0)\n",
            "Requirement already satisfied: fsspec in /usr/local/lib/python3.9/dist-packages (from huggingface-hub<1.0,>=0.11.0->transformers) (2023.4.0)\n",
            "Requirement already satisfied: urllib3<1.27,>=1.21.1 in /usr/local/lib/python3.9/dist-packages (from requests->transformers) (1.26.15)\n",
            "Requirement already satisfied: idna<4,>=2.5 in /usr/local/lib/python3.9/dist-packages (from requests->transformers) (3.4)\n",
            "Requirement already satisfied: certifi>=2017.4.17 in /usr/local/lib/python3.9/dist-packages (from requests->transformers) (2022.12.7)\n",
            "Requirement already satisfied: charset-normalizer~=2.0.0 in /usr/local/lib/python3.9/dist-packages (from requests->transformers) (2.0.12)\n",
            "Installing collected packages: tokenizers, huggingface-hub, transformers\n",
            "Successfully installed huggingface-hub-0.14.1 tokenizers-0.13.3 transformers-4.28.1\n"
          ]
        }
      ]
    },
    {
      "cell_type": "code",
      "source": [
        "import pandas as pd\n",
        "import matplotlib.pyplot as plt\n",
        "import numpy as np\n",
        "import seaborn as sns\n",
        "import random as rand\n",
        "import transformers\n",
        "import re\n",
        "\n",
        "from PIL import Image\n",
        "from transformers import pipeline\n",
        "\n",
        "from sklearn.metrics import f1_score, accuracy_score, classification_report, ConfusionMatrixDisplay, confusion_matrix\n"
      ],
      "metadata": {
        "id": "HqJ7tWFRtIl4"
      },
      "execution_count": 2,
      "outputs": []
    },
    {
      "cell_type": "code",
      "source": [
        "from google.colab import drive\n",
        "drive.mount('/content/gdrive')\n",
        "%cd /content/gdrive/My Drive/Colab Notebooks/vqa/"
      ],
      "metadata": {
        "colab": {
          "base_uri": "https://localhost:8080/"
        },
        "id": "PGh9Y4vltOpM",
        "outputId": "25e23157-b68a-48b1-f8fa-b15b68f33e46"
      },
      "execution_count": 3,
      "outputs": [
        {
          "output_type": "stream",
          "name": "stdout",
          "text": [
            "Mounted at /content/gdrive\n"
          ]
        }
      ]
    },
    {
      "cell_type": "code",
      "source": [
        "%cd /content/gdrive/My Drive/Colab Notebooks/vqa/\n",
        "\n",
        "vqa_pipeline = pipeline(\"visual-question-answering\")\n",
        "\n",
        "image =  Image.open(\"images/boston_real_27.jpg\")\n",
        "question = \"Is this from boston marathon bombing?\"\n",
        "\n",
        "vqa_pipeline(image, question, top_k=1)"
      ],
      "metadata": {
        "colab": {
          "base_uri": "https://localhost:8080/"
        },
        "id": "YrxhVoJMuOsG",
        "outputId": "b2a315dc-98a4-4289-ae4d-d00e5503156a"
      },
      "execution_count": 93,
      "outputs": [
        {
          "output_type": "stream",
          "name": "stderr",
          "text": [
            "No model was supplied, defaulted to dandelin/vilt-b32-finetuned-vqa and revision 4355f59 (https://huggingface.co/dandelin/vilt-b32-finetuned-vqa).\n",
            "Using a pipeline without specifying a model name and revision in production is not recommended.\n"
          ]
        },
        {
          "output_type": "stream",
          "name": "stdout",
          "text": [
            "/content/gdrive/My Drive/Colab Notebooks/vqa\n"
          ]
        },
        {
          "output_type": "stream",
          "name": "stderr",
          "text": [
            "Could not find image processor class in the image processor config or the model config. Loading based on pattern matching with the model's feature extractor configuration.\n"
          ]
        },
        {
          "output_type": "execute_result",
          "data": {
            "text/plain": [
              "[{'score': 0.9969515800476074, 'answer': 'no'}]"
            ]
          },
          "metadata": {},
          "execution_count": 93
        }
      ]
    },
    {
      "cell_type": "code",
      "source": [
        "df1=pd.read_table ('tweets_2.txt')\n",
        "df2=pd.read_table ('tweets.txt')"
      ],
      "metadata": {
        "id": "PK1N59M_x0ij"
      },
      "execution_count": 5,
      "outputs": []
    },
    {
      "cell_type": "code",
      "source": [
        "df1"
      ],
      "metadata": {
        "colab": {
          "base_uri": "https://localhost:8080/",
          "height": 641
        },
        "id": "Y8Dlv6slACO0",
        "outputId": "bffd4b59-07e2-45d4-9a9e-e72d5ca185f1"
      },
      "execution_count": 11,
      "outputs": [
        {
          "output_type": "execute_result",
          "data": {
            "text/plain": [
              "                  tweetId                                          tweetText  \\\n",
              "0      263046056240115712  ¿Se acuerdan de la película: “El día después d...   \n",
              "1      262995061304852481  @milenagimon: Miren a Sandy en NY!  Tremenda i...   \n",
              "2      262979898002534400  Buena la foto del Huracán Sandy, me recuerda a...   \n",
              "3      262996108400271360     Scary shit #hurricane #NY http://t.co/e4JLBUfH   \n",
              "4      263018881839411200  My fave place in the world #nyc #hurricane #sa...   \n",
              "...                   ...                                                ...   \n",
              "14272  443231991593304064  @BobombDom *slaps TweetDeck with the PigFish h...   \n",
              "14273  443086239127076865  New Species of Fish found in Brazil or just Re...   \n",
              "14274  442978105238753280  What do we call this? #pigFISH http: \\/\\/t.co\\...   \n",
              "14275  442753479782989824  Pigfish ? E dopo il pescecane c'è il pesce mai...   \n",
              "14276  442700377860104192  For those who can't decide between fish or mea...   \n",
              "\n",
              "           userId      imageId(s)         username  \\\n",
              "0        21226711  sandyA_fake_46          iAnnieM   \n",
              "1       192378571  sandyA_fake_09   CarlosVerareal   \n",
              "2       132303095  sandyA_fake_09      LucasPalape   \n",
              "3       241995902  sandyA_fake_29      Haaaaarryyy   \n",
              "4       250315890  sandyA_fake_15   princess__natt   \n",
              "...           ...             ...              ...   \n",
              "14272  2179310905      pigFish_01  Da_Vault_Hunter   \n",
              "14273   254843101      pigFish_01   DjSituation_RC   \n",
              "14274  2367553228      pigFish_01        Vivo1Vuyo   \n",
              "14275   603120231      pigFish_01      CosimoTarta   \n",
              "14276    25086784      pigFish_01         johnszim   \n",
              "\n",
              "                              timestamp label  \n",
              "0        Mon Oct 29 22:34:01 +0000 2012  fake  \n",
              "1        Mon Oct 29 19:11:23 +0000 2012  fake  \n",
              "2        Mon Oct 29 18:11:08 +0000 2012  fake  \n",
              "3        Mon Oct 29 19:15:33 +0000 2012  fake  \n",
              "4        Mon Oct 29 20:46:02 +0000 2012  fake  \n",
              "...                                 ...   ...  \n",
              "14272  Tue Mar 11 03: 48: 36 +0000 2014  fake  \n",
              "14273  Mon Mar 10 18: 09: 26 +0000 2014  fake  \n",
              "14274  Mon Mar 10 10: 59: 45 +0000 2014  fake  \n",
              "14275  Sun Mar 09 20: 07: 10 +0000 2014  fake  \n",
              "14276  Sun Mar 09 16: 36: 09 +0000 2014  fake  \n",
              "\n",
              "[14277 rows x 7 columns]"
            ],
            "text/html": [
              "\n",
              "  <div id=\"df-8a88d442-06bc-4155-be42-768b00ab2ea7\">\n",
              "    <div class=\"colab-df-container\">\n",
              "      <div>\n",
              "<style scoped>\n",
              "    .dataframe tbody tr th:only-of-type {\n",
              "        vertical-align: middle;\n",
              "    }\n",
              "\n",
              "    .dataframe tbody tr th {\n",
              "        vertical-align: top;\n",
              "    }\n",
              "\n",
              "    .dataframe thead th {\n",
              "        text-align: right;\n",
              "    }\n",
              "</style>\n",
              "<table border=\"1\" class=\"dataframe\">\n",
              "  <thead>\n",
              "    <tr style=\"text-align: right;\">\n",
              "      <th></th>\n",
              "      <th>tweetId</th>\n",
              "      <th>tweetText</th>\n",
              "      <th>userId</th>\n",
              "      <th>imageId(s)</th>\n",
              "      <th>username</th>\n",
              "      <th>timestamp</th>\n",
              "      <th>label</th>\n",
              "    </tr>\n",
              "  </thead>\n",
              "  <tbody>\n",
              "    <tr>\n",
              "      <th>0</th>\n",
              "      <td>263046056240115712</td>\n",
              "      <td>¿Se acuerdan de la película: “El día después d...</td>\n",
              "      <td>21226711</td>\n",
              "      <td>sandyA_fake_46</td>\n",
              "      <td>iAnnieM</td>\n",
              "      <td>Mon Oct 29 22:34:01 +0000 2012</td>\n",
              "      <td>fake</td>\n",
              "    </tr>\n",
              "    <tr>\n",
              "      <th>1</th>\n",
              "      <td>262995061304852481</td>\n",
              "      <td>@milenagimon: Miren a Sandy en NY!  Tremenda i...</td>\n",
              "      <td>192378571</td>\n",
              "      <td>sandyA_fake_09</td>\n",
              "      <td>CarlosVerareal</td>\n",
              "      <td>Mon Oct 29 19:11:23 +0000 2012</td>\n",
              "      <td>fake</td>\n",
              "    </tr>\n",
              "    <tr>\n",
              "      <th>2</th>\n",
              "      <td>262979898002534400</td>\n",
              "      <td>Buena la foto del Huracán Sandy, me recuerda a...</td>\n",
              "      <td>132303095</td>\n",
              "      <td>sandyA_fake_09</td>\n",
              "      <td>LucasPalape</td>\n",
              "      <td>Mon Oct 29 18:11:08 +0000 2012</td>\n",
              "      <td>fake</td>\n",
              "    </tr>\n",
              "    <tr>\n",
              "      <th>3</th>\n",
              "      <td>262996108400271360</td>\n",
              "      <td>Scary shit #hurricane #NY http://t.co/e4JLBUfH</td>\n",
              "      <td>241995902</td>\n",
              "      <td>sandyA_fake_29</td>\n",
              "      <td>Haaaaarryyy</td>\n",
              "      <td>Mon Oct 29 19:15:33 +0000 2012</td>\n",
              "      <td>fake</td>\n",
              "    </tr>\n",
              "    <tr>\n",
              "      <th>4</th>\n",
              "      <td>263018881839411200</td>\n",
              "      <td>My fave place in the world #nyc #hurricane #sa...</td>\n",
              "      <td>250315890</td>\n",
              "      <td>sandyA_fake_15</td>\n",
              "      <td>princess__natt</td>\n",
              "      <td>Mon Oct 29 20:46:02 +0000 2012</td>\n",
              "      <td>fake</td>\n",
              "    </tr>\n",
              "    <tr>\n",
              "      <th>...</th>\n",
              "      <td>...</td>\n",
              "      <td>...</td>\n",
              "      <td>...</td>\n",
              "      <td>...</td>\n",
              "      <td>...</td>\n",
              "      <td>...</td>\n",
              "      <td>...</td>\n",
              "    </tr>\n",
              "    <tr>\n",
              "      <th>14272</th>\n",
              "      <td>443231991593304064</td>\n",
              "      <td>@BobombDom *slaps TweetDeck with the PigFish h...</td>\n",
              "      <td>2179310905</td>\n",
              "      <td>pigFish_01</td>\n",
              "      <td>Da_Vault_Hunter</td>\n",
              "      <td>Tue Mar 11 03: 48: 36 +0000 2014</td>\n",
              "      <td>fake</td>\n",
              "    </tr>\n",
              "    <tr>\n",
              "      <th>14273</th>\n",
              "      <td>443086239127076865</td>\n",
              "      <td>New Species of Fish found in Brazil or just Re...</td>\n",
              "      <td>254843101</td>\n",
              "      <td>pigFish_01</td>\n",
              "      <td>DjSituation_RC</td>\n",
              "      <td>Mon Mar 10 18: 09: 26 +0000 2014</td>\n",
              "      <td>fake</td>\n",
              "    </tr>\n",
              "    <tr>\n",
              "      <th>14274</th>\n",
              "      <td>442978105238753280</td>\n",
              "      <td>What do we call this? #pigFISH http: \\/\\/t.co\\...</td>\n",
              "      <td>2367553228</td>\n",
              "      <td>pigFish_01</td>\n",
              "      <td>Vivo1Vuyo</td>\n",
              "      <td>Mon Mar 10 10: 59: 45 +0000 2014</td>\n",
              "      <td>fake</td>\n",
              "    </tr>\n",
              "    <tr>\n",
              "      <th>14275</th>\n",
              "      <td>442753479782989824</td>\n",
              "      <td>Pigfish ? E dopo il pescecane c'è il pesce mai...</td>\n",
              "      <td>603120231</td>\n",
              "      <td>pigFish_01</td>\n",
              "      <td>CosimoTarta</td>\n",
              "      <td>Sun Mar 09 20: 07: 10 +0000 2014</td>\n",
              "      <td>fake</td>\n",
              "    </tr>\n",
              "    <tr>\n",
              "      <th>14276</th>\n",
              "      <td>442700377860104192</td>\n",
              "      <td>For those who can't decide between fish or mea...</td>\n",
              "      <td>25086784</td>\n",
              "      <td>pigFish_01</td>\n",
              "      <td>johnszim</td>\n",
              "      <td>Sun Mar 09 16: 36: 09 +0000 2014</td>\n",
              "      <td>fake</td>\n",
              "    </tr>\n",
              "  </tbody>\n",
              "</table>\n",
              "<p>14277 rows × 7 columns</p>\n",
              "</div>\n",
              "      <button class=\"colab-df-convert\" onclick=\"convertToInteractive('df-8a88d442-06bc-4155-be42-768b00ab2ea7')\"\n",
              "              title=\"Convert this dataframe to an interactive table.\"\n",
              "              style=\"display:none;\">\n",
              "        \n",
              "  <svg xmlns=\"http://www.w3.org/2000/svg\" height=\"24px\"viewBox=\"0 0 24 24\"\n",
              "       width=\"24px\">\n",
              "    <path d=\"M0 0h24v24H0V0z\" fill=\"none\"/>\n",
              "    <path d=\"M18.56 5.44l.94 2.06.94-2.06 2.06-.94-2.06-.94-.94-2.06-.94 2.06-2.06.94zm-11 1L8.5 8.5l.94-2.06 2.06-.94-2.06-.94L8.5 2.5l-.94 2.06-2.06.94zm10 10l.94 2.06.94-2.06 2.06-.94-2.06-.94-.94-2.06-.94 2.06-2.06.94z\"/><path d=\"M17.41 7.96l-1.37-1.37c-.4-.4-.92-.59-1.43-.59-.52 0-1.04.2-1.43.59L10.3 9.45l-7.72 7.72c-.78.78-.78 2.05 0 2.83L4 21.41c.39.39.9.59 1.41.59.51 0 1.02-.2 1.41-.59l7.78-7.78 2.81-2.81c.8-.78.8-2.07 0-2.86zM5.41 20L4 18.59l7.72-7.72 1.47 1.35L5.41 20z\"/>\n",
              "  </svg>\n",
              "      </button>\n",
              "      \n",
              "  <style>\n",
              "    .colab-df-container {\n",
              "      display:flex;\n",
              "      flex-wrap:wrap;\n",
              "      gap: 12px;\n",
              "    }\n",
              "\n",
              "    .colab-df-convert {\n",
              "      background-color: #E8F0FE;\n",
              "      border: none;\n",
              "      border-radius: 50%;\n",
              "      cursor: pointer;\n",
              "      display: none;\n",
              "      fill: #1967D2;\n",
              "      height: 32px;\n",
              "      padding: 0 0 0 0;\n",
              "      width: 32px;\n",
              "    }\n",
              "\n",
              "    .colab-df-convert:hover {\n",
              "      background-color: #E2EBFA;\n",
              "      box-shadow: 0px 1px 2px rgba(60, 64, 67, 0.3), 0px 1px 3px 1px rgba(60, 64, 67, 0.15);\n",
              "      fill: #174EA6;\n",
              "    }\n",
              "\n",
              "    [theme=dark] .colab-df-convert {\n",
              "      background-color: #3B4455;\n",
              "      fill: #D2E3FC;\n",
              "    }\n",
              "\n",
              "    [theme=dark] .colab-df-convert:hover {\n",
              "      background-color: #434B5C;\n",
              "      box-shadow: 0px 1px 3px 1px rgba(0, 0, 0, 0.15);\n",
              "      filter: drop-shadow(0px 1px 2px rgba(0, 0, 0, 0.3));\n",
              "      fill: #FFFFFF;\n",
              "    }\n",
              "  </style>\n",
              "\n",
              "      <script>\n",
              "        const buttonEl =\n",
              "          document.querySelector('#df-8a88d442-06bc-4155-be42-768b00ab2ea7 button.colab-df-convert');\n",
              "        buttonEl.style.display =\n",
              "          google.colab.kernel.accessAllowed ? 'block' : 'none';\n",
              "\n",
              "        async function convertToInteractive(key) {\n",
              "          const element = document.querySelector('#df-8a88d442-06bc-4155-be42-768b00ab2ea7');\n",
              "          const dataTable =\n",
              "            await google.colab.kernel.invokeFunction('convertToInteractive',\n",
              "                                                     [key], {});\n",
              "          if (!dataTable) return;\n",
              "\n",
              "          const docLinkHtml = 'Like what you see? Visit the ' +\n",
              "            '<a target=\"_blank\" href=https://colab.research.google.com/notebooks/data_table.ipynb>data table notebook</a>'\n",
              "            + ' to learn more about interactive tables.';\n",
              "          element.innerHTML = '';\n",
              "          dataTable['output_type'] = 'display_data';\n",
              "          await google.colab.output.renderOutput(dataTable, element);\n",
              "          const docLink = document.createElement('div');\n",
              "          docLink.innerHTML = docLinkHtml;\n",
              "          element.appendChild(docLink);\n",
              "        }\n",
              "      </script>\n",
              "    </div>\n",
              "  </div>\n",
              "  "
            ]
          },
          "metadata": {},
          "execution_count": 11
        }
      ]
    },
    {
      "cell_type": "code",
      "source": [
        "df2"
      ],
      "metadata": {
        "colab": {
          "base_uri": "https://localhost:8080/",
          "height": 641
        },
        "id": "YWi0GMjoAMAz",
        "outputId": "80d78eee-8835-4f3e-d6b2-5a93436e9ba9"
      },
      "execution_count": 12,
      "outputs": [
        {
          "output_type": "execute_result",
          "data": {
            "text/plain": [
              "                 tweetId                                          tweetText  \\\n",
              "0     578854927457349632  kereeen RT @Shyman33: Eclipse from ISS.... htt...   \n",
              "1     578874632670953472  Absolutely beautiful! RT @Shyman33: Eclipse fr...   \n",
              "2     578891261353984000  “@Shyman33: Eclipse from ISS.... http://t.co/C...   \n",
              "3     578846612312748032        Eclipse from ISS.... http://t.co/En87OtvsU6   \n",
              "4     578975333841551360  @ebonfigli: Éclipse vue de l'ISS... Autre chos...   \n",
              "...                  ...                                                ...   \n",
              "3750  578433150071775232  Un présentateur de la ZDF confesse avoir truqu...   \n",
              "3751  578433646597656576  Oh les kleine menteurs \"@CorineBarella: Un pré...   \n",
              "3752  578486910491996160  Este es el programa de ZDF en el que confirman...   \n",
              "3753  578505023912591360  11.34 - wir haben FAST Mittag ▶ Riesen Verwirr...   \n",
              "3754  578305144380612609  Sorry, @yanisvaroufakis! https://t.co/BSkYrbII...   \n",
              "\n",
              "          userId    imageId(s)         username  \\\n",
              "0       70824972   eclipse_01            peay_s   \n",
              "1      344707006   eclipse_01   JaredUcanChange   \n",
              "2      224839607   eclipse_01          tpjp1231   \n",
              "3      134543073   eclipse_01          Shyman33   \n",
              "4     1150728872    eclipse_01       Epimethee_   \n",
              "...          ...           ...              ...   \n",
              "3750   257551211  varoufakis_1    Cdt_Sylvestre   \n",
              "3751    27575883  varoufakis_1         damomarc   \n",
              "3752     2049211  varoufakis_1    javierpascual   \n",
              "3753   262222386  varoufakis_1      aotto1968_2   \n",
              "3754    19072286  varoufakis_1         janboehm   \n",
              "\n",
              "                           timestamp label  \n",
              "0     Fri Mar 20 09:45:43 +0000 2015  fake  \n",
              "1     Fri Mar 20 11:04:02 +0000 2015  fake  \n",
              "2     Fri Mar 20 12:10:06 +0000 2015  fake  \n",
              "3     Fri Mar 20 09:12:41 +0000 2015  fake  \n",
              "4     Fri Mar 20 17:44:11 +0000 2015  fake  \n",
              "...                              ...   ...  \n",
              "3750  Thu Mar 19 05:49:44 +0000 2015  fake  \n",
              "3751  Thu Mar 19 05:51:42 +0000 2015  fake  \n",
              "3752  Thu Mar 19 09:23:21 +0000 2015  fake  \n",
              "3753  Thu Mar 19 10:35:20 +0000 2015  fake  \n",
              "3754  Wed Mar 18 21:21:05 +0000 2015  fake  \n",
              "\n",
              "[3755 rows x 7 columns]"
            ],
            "text/html": [
              "\n",
              "  <div id=\"df-b31d249b-d469-48e0-8d88-8dd65b4bd3e0\">\n",
              "    <div class=\"colab-df-container\">\n",
              "      <div>\n",
              "<style scoped>\n",
              "    .dataframe tbody tr th:only-of-type {\n",
              "        vertical-align: middle;\n",
              "    }\n",
              "\n",
              "    .dataframe tbody tr th {\n",
              "        vertical-align: top;\n",
              "    }\n",
              "\n",
              "    .dataframe thead th {\n",
              "        text-align: right;\n",
              "    }\n",
              "</style>\n",
              "<table border=\"1\" class=\"dataframe\">\n",
              "  <thead>\n",
              "    <tr style=\"text-align: right;\">\n",
              "      <th></th>\n",
              "      <th>tweetId</th>\n",
              "      <th>tweetText</th>\n",
              "      <th>userId</th>\n",
              "      <th>imageId(s)</th>\n",
              "      <th>username</th>\n",
              "      <th>timestamp</th>\n",
              "      <th>label</th>\n",
              "    </tr>\n",
              "  </thead>\n",
              "  <tbody>\n",
              "    <tr>\n",
              "      <th>0</th>\n",
              "      <td>578854927457349632</td>\n",
              "      <td>kereeen RT @Shyman33: Eclipse from ISS.... htt...</td>\n",
              "      <td>70824972</td>\n",
              "      <td>eclipse_01</td>\n",
              "      <td>peay_s</td>\n",
              "      <td>Fri Mar 20 09:45:43 +0000 2015</td>\n",
              "      <td>fake</td>\n",
              "    </tr>\n",
              "    <tr>\n",
              "      <th>1</th>\n",
              "      <td>578874632670953472</td>\n",
              "      <td>Absolutely beautiful! RT @Shyman33: Eclipse fr...</td>\n",
              "      <td>344707006</td>\n",
              "      <td>eclipse_01</td>\n",
              "      <td>JaredUcanChange</td>\n",
              "      <td>Fri Mar 20 11:04:02 +0000 2015</td>\n",
              "      <td>fake</td>\n",
              "    </tr>\n",
              "    <tr>\n",
              "      <th>2</th>\n",
              "      <td>578891261353984000</td>\n",
              "      <td>“@Shyman33: Eclipse from ISS.... http://t.co/C...</td>\n",
              "      <td>224839607</td>\n",
              "      <td>eclipse_01</td>\n",
              "      <td>tpjp1231</td>\n",
              "      <td>Fri Mar 20 12:10:06 +0000 2015</td>\n",
              "      <td>fake</td>\n",
              "    </tr>\n",
              "    <tr>\n",
              "      <th>3</th>\n",
              "      <td>578846612312748032</td>\n",
              "      <td>Eclipse from ISS.... http://t.co/En87OtvsU6</td>\n",
              "      <td>134543073</td>\n",
              "      <td>eclipse_01</td>\n",
              "      <td>Shyman33</td>\n",
              "      <td>Fri Mar 20 09:12:41 +0000 2015</td>\n",
              "      <td>fake</td>\n",
              "    </tr>\n",
              "    <tr>\n",
              "      <th>4</th>\n",
              "      <td>578975333841551360</td>\n",
              "      <td>@ebonfigli: Éclipse vue de l'ISS... Autre chos...</td>\n",
              "      <td>1150728872</td>\n",
              "      <td>eclipse_01</td>\n",
              "      <td>Epimethee_</td>\n",
              "      <td>Fri Mar 20 17:44:11 +0000 2015</td>\n",
              "      <td>fake</td>\n",
              "    </tr>\n",
              "    <tr>\n",
              "      <th>...</th>\n",
              "      <td>...</td>\n",
              "      <td>...</td>\n",
              "      <td>...</td>\n",
              "      <td>...</td>\n",
              "      <td>...</td>\n",
              "      <td>...</td>\n",
              "      <td>...</td>\n",
              "    </tr>\n",
              "    <tr>\n",
              "      <th>3750</th>\n",
              "      <td>578433150071775232</td>\n",
              "      <td>Un présentateur de la ZDF confesse avoir truqu...</td>\n",
              "      <td>257551211</td>\n",
              "      <td>varoufakis_1</td>\n",
              "      <td>Cdt_Sylvestre</td>\n",
              "      <td>Thu Mar 19 05:49:44 +0000 2015</td>\n",
              "      <td>fake</td>\n",
              "    </tr>\n",
              "    <tr>\n",
              "      <th>3751</th>\n",
              "      <td>578433646597656576</td>\n",
              "      <td>Oh les kleine menteurs \"@CorineBarella: Un pré...</td>\n",
              "      <td>27575883</td>\n",
              "      <td>varoufakis_1</td>\n",
              "      <td>damomarc</td>\n",
              "      <td>Thu Mar 19 05:51:42 +0000 2015</td>\n",
              "      <td>fake</td>\n",
              "    </tr>\n",
              "    <tr>\n",
              "      <th>3752</th>\n",
              "      <td>578486910491996160</td>\n",
              "      <td>Este es el programa de ZDF en el que confirman...</td>\n",
              "      <td>2049211</td>\n",
              "      <td>varoufakis_1</td>\n",
              "      <td>javierpascual</td>\n",
              "      <td>Thu Mar 19 09:23:21 +0000 2015</td>\n",
              "      <td>fake</td>\n",
              "    </tr>\n",
              "    <tr>\n",
              "      <th>3753</th>\n",
              "      <td>578505023912591360</td>\n",
              "      <td>11.34 - wir haben FAST Mittag ▶ Riesen Verwirr...</td>\n",
              "      <td>262222386</td>\n",
              "      <td>varoufakis_1</td>\n",
              "      <td>aotto1968_2</td>\n",
              "      <td>Thu Mar 19 10:35:20 +0000 2015</td>\n",
              "      <td>fake</td>\n",
              "    </tr>\n",
              "    <tr>\n",
              "      <th>3754</th>\n",
              "      <td>578305144380612609</td>\n",
              "      <td>Sorry, @yanisvaroufakis! https://t.co/BSkYrbII...</td>\n",
              "      <td>19072286</td>\n",
              "      <td>varoufakis_1</td>\n",
              "      <td>janboehm</td>\n",
              "      <td>Wed Mar 18 21:21:05 +0000 2015</td>\n",
              "      <td>fake</td>\n",
              "    </tr>\n",
              "  </tbody>\n",
              "</table>\n",
              "<p>3755 rows × 7 columns</p>\n",
              "</div>\n",
              "      <button class=\"colab-df-convert\" onclick=\"convertToInteractive('df-b31d249b-d469-48e0-8d88-8dd65b4bd3e0')\"\n",
              "              title=\"Convert this dataframe to an interactive table.\"\n",
              "              style=\"display:none;\">\n",
              "        \n",
              "  <svg xmlns=\"http://www.w3.org/2000/svg\" height=\"24px\"viewBox=\"0 0 24 24\"\n",
              "       width=\"24px\">\n",
              "    <path d=\"M0 0h24v24H0V0z\" fill=\"none\"/>\n",
              "    <path d=\"M18.56 5.44l.94 2.06.94-2.06 2.06-.94-2.06-.94-.94-2.06-.94 2.06-2.06.94zm-11 1L8.5 8.5l.94-2.06 2.06-.94-2.06-.94L8.5 2.5l-.94 2.06-2.06.94zm10 10l.94 2.06.94-2.06 2.06-.94-2.06-.94-.94-2.06-.94 2.06-2.06.94z\"/><path d=\"M17.41 7.96l-1.37-1.37c-.4-.4-.92-.59-1.43-.59-.52 0-1.04.2-1.43.59L10.3 9.45l-7.72 7.72c-.78.78-.78 2.05 0 2.83L4 21.41c.39.39.9.59 1.41.59.51 0 1.02-.2 1.41-.59l7.78-7.78 2.81-2.81c.8-.78.8-2.07 0-2.86zM5.41 20L4 18.59l7.72-7.72 1.47 1.35L5.41 20z\"/>\n",
              "  </svg>\n",
              "      </button>\n",
              "      \n",
              "  <style>\n",
              "    .colab-df-container {\n",
              "      display:flex;\n",
              "      flex-wrap:wrap;\n",
              "      gap: 12px;\n",
              "    }\n",
              "\n",
              "    .colab-df-convert {\n",
              "      background-color: #E8F0FE;\n",
              "      border: none;\n",
              "      border-radius: 50%;\n",
              "      cursor: pointer;\n",
              "      display: none;\n",
              "      fill: #1967D2;\n",
              "      height: 32px;\n",
              "      padding: 0 0 0 0;\n",
              "      width: 32px;\n",
              "    }\n",
              "\n",
              "    .colab-df-convert:hover {\n",
              "      background-color: #E2EBFA;\n",
              "      box-shadow: 0px 1px 2px rgba(60, 64, 67, 0.3), 0px 1px 3px 1px rgba(60, 64, 67, 0.15);\n",
              "      fill: #174EA6;\n",
              "    }\n",
              "\n",
              "    [theme=dark] .colab-df-convert {\n",
              "      background-color: #3B4455;\n",
              "      fill: #D2E3FC;\n",
              "    }\n",
              "\n",
              "    [theme=dark] .colab-df-convert:hover {\n",
              "      background-color: #434B5C;\n",
              "      box-shadow: 0px 1px 3px 1px rgba(0, 0, 0, 0.15);\n",
              "      filter: drop-shadow(0px 1px 2px rgba(0, 0, 0, 0.3));\n",
              "      fill: #FFFFFF;\n",
              "    }\n",
              "  </style>\n",
              "\n",
              "      <script>\n",
              "        const buttonEl =\n",
              "          document.querySelector('#df-b31d249b-d469-48e0-8d88-8dd65b4bd3e0 button.colab-df-convert');\n",
              "        buttonEl.style.display =\n",
              "          google.colab.kernel.accessAllowed ? 'block' : 'none';\n",
              "\n",
              "        async function convertToInteractive(key) {\n",
              "          const element = document.querySelector('#df-b31d249b-d469-48e0-8d88-8dd65b4bd3e0');\n",
              "          const dataTable =\n",
              "            await google.colab.kernel.invokeFunction('convertToInteractive',\n",
              "                                                     [key], {});\n",
              "          if (!dataTable) return;\n",
              "\n",
              "          const docLinkHtml = 'Like what you see? Visit the ' +\n",
              "            '<a target=\"_blank\" href=https://colab.research.google.com/notebooks/data_table.ipynb>data table notebook</a>'\n",
              "            + ' to learn more about interactive tables.';\n",
              "          element.innerHTML = '';\n",
              "          dataTable['output_type'] = 'display_data';\n",
              "          await google.colab.output.renderOutput(dataTable, element);\n",
              "          const docLink = document.createElement('div');\n",
              "          docLink.innerHTML = docLinkHtml;\n",
              "          element.appendChild(docLink);\n",
              "        }\n",
              "      </script>\n",
              "    </div>\n",
              "  </div>\n",
              "  "
            ]
          },
          "metadata": {},
          "execution_count": 12
        }
      ]
    },
    {
      "cell_type": "code",
      "source": [
        "df1.columns"
      ],
      "metadata": {
        "colab": {
          "base_uri": "https://localhost:8080/"
        },
        "id": "HH43I_lVCsnE",
        "outputId": "69b2282e-9fea-4ba4-8786-cd3333c7919f"
      },
      "execution_count": 6,
      "outputs": [
        {
          "output_type": "execute_result",
          "data": {
            "text/plain": [
              "Index(['tweetId', 'tweetText', 'userId', 'imageId(s)', 'username', 'timestamp',\n",
              "       'label'],\n",
              "      dtype='object')"
            ]
          },
          "metadata": {},
          "execution_count": 6
        }
      ]
    },
    {
      "cell_type": "code",
      "source": [
        "df1.dtypes"
      ],
      "metadata": {
        "colab": {
          "base_uri": "https://localhost:8080/"
        },
        "id": "b7dfMNIvC0qi",
        "outputId": "4f136038-5031-44e7-da8a-00e23f89755d"
      },
      "execution_count": 7,
      "outputs": [
        {
          "output_type": "execute_result",
          "data": {
            "text/plain": [
              "tweetId        int64\n",
              "tweetText     object\n",
              "userId         int64\n",
              "imageId(s)    object\n",
              "username      object\n",
              "timestamp     object\n",
              "label         object\n",
              "dtype: object"
            ]
          },
          "metadata": {},
          "execution_count": 7
        }
      ]
    },
    {
      "cell_type": "code",
      "source": [
        "df = pd.DataFrame(columns = ['imageId', 'question', 'image', 'label', 'pred'])\n",
        "missing = ['varoufakis_1', 'syrianboy_1', 'eclipse_video_01', 'boston_fake_10','sandyB_real_6', 'sandyB_real_6', 'boston_fake_35','boston_real_05']\n",
        "event = {}\n",
        "event ['boston_fake'] = 'Boston marathon bombing'\n",
        "event ['boston_real'] = 'Boston marathon bombing'\n",
        "event ['underwater_fake'] = 'underwater bedroom'\n",
        "event ['eclipse'] = 'solar eclipse'\n",
        "event ['sochi_fake'] = 'Sochi Olympics'\n",
        "event ['samurai'] = 'a real samurai ghost'\n",
        "event ['elephant_fake'] = 'a real rock elephant'\n",
        "event ['pigFish'] = 'Pig Fish'\n",
        "event ['passport'] = 'a real passport'\n",
        "event ['nepal'] = 'eathquake in Nepal'\n",
        "event ['malaysia_fake'] = 'MA flight 370'\n",
        "event ['livr'] = 'Livr mobile app'\n",
        "event ['sandyA_fake'] = 'Sandy hurricane'\n",
        "event ['sandyB_fake'] = 'Sandy hurricane'\n",
        "event ['sandyA_real'] = 'Sandy hurricane'\n",
        "event ['sandyB_real'] = 'Sandy hurricane'\n",
        "event ['garissa'] = 'Garissa Attack'\n",
        "event ['columbianChemicals_fake'] = 'Columbian Chemicals'\n",
        "event ['bringback_fake'] = 'Bring Back Our Girls'"
      ],
      "metadata": {
        "id": "4Iz6iBF8CVE2"
      },
      "execution_count": 94,
      "outputs": []
    },
    {
      "cell_type": "code",
      "source": [
        "for index, row in df1.iterrows():\n",
        "  id_lst = re.split(',', row['imageId(s)'].rstrip())\n",
        "  for i in range (len(id_lst)):\n",
        "    if id_lst[i] in missing: continue\n",
        "    key = id_lst[i].rpartition('_')[0]\n",
        "    evnt = event[key]\n",
        "    ques = 'Is this '+evnt+'?'\n",
        "    img = id_lst[i]+'.jpg'\n",
        "    if row['label'] =='real' : label = 'real'\n",
        "    else: label = 'fake'\n",
        "    df.loc[len(df.index)] = [id_lst[i], ques, img, label, ''] \n",
        "\n"
      ],
      "metadata": {
        "id": "k2BQDzx4Cmgu"
      },
      "execution_count": 95,
      "outputs": []
    },
    {
      "cell_type": "code",
      "source": [
        "for index, row in df2.iterrows():\n",
        "  id_lst = re.split(',', row['imageId(s)'].rstrip())\n",
        "  for i in range (len(id_lst)):\n",
        "    if id_lst[i] in missing: \n",
        "      continue\n",
        "    #print (id_lst[i])\n",
        "    key = id_lst[i].rpartition('_')[0]\n",
        "    evnt = event[key]\n",
        "    ques = 'Is this '+evnt+'?'\n",
        "    img = id_lst[i]+'.jpg'\n",
        "    if row['label'] =='real' : label = 'real'\n",
        "    else: label = 'fake'\n",
        "    df.loc[len(df.index)] = [id_lst[i], ques, img, label, ''] \n"
      ],
      "metadata": {
        "id": "8rtxIFdDEFod"
      },
      "execution_count": 96,
      "outputs": []
    },
    {
      "cell_type": "code",
      "source": [
        "df['label'].value_counts()"
      ],
      "metadata": {
        "colab": {
          "base_uri": "https://localhost:8080/"
        },
        "id": "Hm76WDtQF2sX",
        "outputId": "91f37e4c-9a2e-4d0a-f316-16551f11c36d"
      },
      "execution_count": 97,
      "outputs": [
        {
          "output_type": "execute_result",
          "data": {
            "text/plain": [
              "fake    10178\n",
              "real     6148\n",
              "Name: label, dtype: int64"
            ]
          },
          "metadata": {},
          "execution_count": 97
        }
      ]
    },
    {
      "cell_type": "code",
      "source": [
        "for index, row in df['image'].value_counts():\n",
        "  print (row[''])"
      ],
      "metadata": {
        "colab": {
          "base_uri": "https://localhost:8080/"
        },
        "id": "8o2LO74laFFX",
        "outputId": "867b742d-f730-47a1-b9ed-8bbc3f81b28e"
      },
      "execution_count": 68,
      "outputs": [
        {
          "output_type": "execute_result",
          "data": {
            "text/plain": [
              "pandas.core.series.Series"
            ]
          },
          "metadata": {},
          "execution_count": 68
        }
      ]
    },
    {
      "cell_type": "code",
      "source": [
        "def predict (row):\n",
        "  ques = row['question']\n",
        "  image = Image.open('images/'+row['image'])\n",
        "  if vqa_pipeline(image, question, top_k=1)[0]['answer']=='yes': return 'real'\n",
        "  else: return 'fake'"
      ],
      "metadata": {
        "id": "jeR-IodSjaCC"
      },
      "execution_count": 93,
      "outputs": []
    },
    {
      "cell_type": "code",
      "source": [
        "image_dict={}\n",
        "for index, row in df.iterrows():\n",
        "  #if row['pred']!='':continue\n",
        "  if index%500==0: print (f\"processing{index}\")\n",
        "  if row['image'] in image_dict: \n",
        "    df.at[index,'pred']= image_dict[row['image']]\n",
        "    continue\n",
        "  pred=''\n",
        "  image = Image.open('images/'+row['image'])\n",
        "  question = row['question']\n",
        "  if vqa_pipeline(image, question, top_k=1)[0]['answer']=='yes': pred='real'\n",
        "  else: pred='fake'\n",
        "  df.at[index,'pred'] = pred\n",
        "  image_dict[row['image']] = pred"
      ],
      "metadata": {
        "colab": {
          "base_uri": "https://localhost:8080/"
        },
        "id": "5JMIOxl2zgie",
        "outputId": "fbfb3a9e-37ef-494d-b41c-fec983315d93"
      },
      "execution_count": 98,
      "outputs": [
        {
          "output_type": "stream",
          "name": "stdout",
          "text": [
            "processing0\n",
            "processing500\n",
            "processing1000\n",
            "processing1500\n",
            "processing2000\n",
            "processing2500\n",
            "processing3000\n",
            "processing3500\n",
            "processing4000\n",
            "processing4500\n",
            "processing5000\n",
            "processing5500\n",
            "processing6000\n",
            "processing6500\n",
            "processing7000\n",
            "processing7500\n",
            "processing8000\n",
            "processing8500\n",
            "processing9000\n",
            "processing9500\n",
            "processing10000\n",
            "processing10500\n",
            "processing11000\n",
            "processing11500\n",
            "processing12000\n",
            "processing12500\n",
            "processing13000\n",
            "processing13500\n",
            "processing14000\n",
            "processing14500\n",
            "processing15000\n",
            "processing15500\n",
            "processing16000\n"
          ]
        }
      ]
    },
    {
      "cell_type": "code",
      "source": [
        "df.to_csv('pred.csv', index=False, encoding = 'utf-8-sig')\n",
        "\n",
        "from google.colab import files\n",
        "files.download('pred.csv')"
      ],
      "metadata": {
        "colab": {
          "base_uri": "https://localhost:8080/",
          "height": 17
        },
        "id": "FBoRbdT7565r",
        "outputId": "1c735a28-fc8b-4f11-cffd-b75d4f19080f"
      },
      "execution_count": 99,
      "outputs": [
        {
          "output_type": "display_data",
          "data": {
            "text/plain": [
              "<IPython.core.display.Javascript object>"
            ],
            "application/javascript": [
              "\n",
              "    async function download(id, filename, size) {\n",
              "      if (!google.colab.kernel.accessAllowed) {\n",
              "        return;\n",
              "      }\n",
              "      const div = document.createElement('div');\n",
              "      const label = document.createElement('label');\n",
              "      label.textContent = `Downloading \"${filename}\": `;\n",
              "      div.appendChild(label);\n",
              "      const progress = document.createElement('progress');\n",
              "      progress.max = size;\n",
              "      div.appendChild(progress);\n",
              "      document.body.appendChild(div);\n",
              "\n",
              "      const buffers = [];\n",
              "      let downloaded = 0;\n",
              "\n",
              "      const channel = await google.colab.kernel.comms.open(id);\n",
              "      // Send a message to notify the kernel that we're ready.\n",
              "      channel.send({})\n",
              "\n",
              "      for await (const message of channel.messages) {\n",
              "        // Send a message to notify the kernel that we're ready.\n",
              "        channel.send({})\n",
              "        if (message.buffers) {\n",
              "          for (const buffer of message.buffers) {\n",
              "            buffers.push(buffer);\n",
              "            downloaded += buffer.byteLength;\n",
              "            progress.value = downloaded;\n",
              "          }\n",
              "        }\n",
              "      }\n",
              "      const blob = new Blob(buffers, {type: 'application/binary'});\n",
              "      const a = document.createElement('a');\n",
              "      a.href = window.URL.createObjectURL(blob);\n",
              "      a.download = filename;\n",
              "      div.appendChild(a);\n",
              "      a.click();\n",
              "      div.remove();\n",
              "    }\n",
              "  "
            ]
          },
          "metadata": {}
        },
        {
          "output_type": "display_data",
          "data": {
            "text/plain": [
              "<IPython.core.display.Javascript object>"
            ],
            "application/javascript": [
              "download(\"download_4f8ccb1e-fac0-4133-9710-d52f1e9c8cd3\", \"pred.csv\", 1121221)"
            ]
          },
          "metadata": {}
        }
      ]
    },
    {
      "cell_type": "code",
      "source": [
        "df"
      ],
      "metadata": {
        "colab": {
          "base_uri": "https://localhost:8080/",
          "height": 423
        },
        "id": "kGGIbFDQOJXQ",
        "outputId": "3642ebf6-f7a7-43b4-a74f-f5ff6f64f8aa"
      },
      "execution_count": 100,
      "outputs": [
        {
          "output_type": "execute_result",
          "data": {
            "text/plain": [
              "              imageId                  question               image label  \\\n",
              "0      sandyA_fake_46  Is this Sandy hurricane?  sandyA_fake_46.jpg  fake   \n",
              "1      sandyA_fake_09  Is this Sandy hurricane?  sandyA_fake_09.jpg  fake   \n",
              "2      sandyA_fake_09  Is this Sandy hurricane?  sandyA_fake_09.jpg  fake   \n",
              "3      sandyA_fake_29  Is this Sandy hurricane?  sandyA_fake_29.jpg  fake   \n",
              "4      sandyA_fake_15  Is this Sandy hurricane?  sandyA_fake_15.jpg  fake   \n",
              "...               ...                       ...                 ...   ...   \n",
              "16321      garissa_04   Is this Garissa Attack?      garissa_04.jpg  real   \n",
              "16322      garissa_04   Is this Garissa Attack?      garissa_04.jpg  real   \n",
              "16323      garissa_04   Is this Garissa Attack?      garissa_04.jpg  real   \n",
              "16324      garissa_04   Is this Garissa Attack?      garissa_04.jpg  real   \n",
              "16325      garissa_04   Is this Garissa Attack?      garissa_04.jpg  real   \n",
              "\n",
              "       pred  \n",
              "0      real  \n",
              "1      fake  \n",
              "2      fake  \n",
              "3      fake  \n",
              "4      fake  \n",
              "...     ...  \n",
              "16321  real  \n",
              "16322  real  \n",
              "16323  real  \n",
              "16324  real  \n",
              "16325  real  \n",
              "\n",
              "[16326 rows x 5 columns]"
            ],
            "text/html": [
              "\n",
              "  <div id=\"df-486c9dce-67e4-468c-a7aa-812834156d00\">\n",
              "    <div class=\"colab-df-container\">\n",
              "      <div>\n",
              "<style scoped>\n",
              "    .dataframe tbody tr th:only-of-type {\n",
              "        vertical-align: middle;\n",
              "    }\n",
              "\n",
              "    .dataframe tbody tr th {\n",
              "        vertical-align: top;\n",
              "    }\n",
              "\n",
              "    .dataframe thead th {\n",
              "        text-align: right;\n",
              "    }\n",
              "</style>\n",
              "<table border=\"1\" class=\"dataframe\">\n",
              "  <thead>\n",
              "    <tr style=\"text-align: right;\">\n",
              "      <th></th>\n",
              "      <th>imageId</th>\n",
              "      <th>question</th>\n",
              "      <th>image</th>\n",
              "      <th>label</th>\n",
              "      <th>pred</th>\n",
              "    </tr>\n",
              "  </thead>\n",
              "  <tbody>\n",
              "    <tr>\n",
              "      <th>0</th>\n",
              "      <td>sandyA_fake_46</td>\n",
              "      <td>Is this Sandy hurricane?</td>\n",
              "      <td>sandyA_fake_46.jpg</td>\n",
              "      <td>fake</td>\n",
              "      <td>real</td>\n",
              "    </tr>\n",
              "    <tr>\n",
              "      <th>1</th>\n",
              "      <td>sandyA_fake_09</td>\n",
              "      <td>Is this Sandy hurricane?</td>\n",
              "      <td>sandyA_fake_09.jpg</td>\n",
              "      <td>fake</td>\n",
              "      <td>fake</td>\n",
              "    </tr>\n",
              "    <tr>\n",
              "      <th>2</th>\n",
              "      <td>sandyA_fake_09</td>\n",
              "      <td>Is this Sandy hurricane?</td>\n",
              "      <td>sandyA_fake_09.jpg</td>\n",
              "      <td>fake</td>\n",
              "      <td>fake</td>\n",
              "    </tr>\n",
              "    <tr>\n",
              "      <th>3</th>\n",
              "      <td>sandyA_fake_29</td>\n",
              "      <td>Is this Sandy hurricane?</td>\n",
              "      <td>sandyA_fake_29.jpg</td>\n",
              "      <td>fake</td>\n",
              "      <td>fake</td>\n",
              "    </tr>\n",
              "    <tr>\n",
              "      <th>4</th>\n",
              "      <td>sandyA_fake_15</td>\n",
              "      <td>Is this Sandy hurricane?</td>\n",
              "      <td>sandyA_fake_15.jpg</td>\n",
              "      <td>fake</td>\n",
              "      <td>fake</td>\n",
              "    </tr>\n",
              "    <tr>\n",
              "      <th>...</th>\n",
              "      <td>...</td>\n",
              "      <td>...</td>\n",
              "      <td>...</td>\n",
              "      <td>...</td>\n",
              "      <td>...</td>\n",
              "    </tr>\n",
              "    <tr>\n",
              "      <th>16321</th>\n",
              "      <td>garissa_04</td>\n",
              "      <td>Is this Garissa Attack?</td>\n",
              "      <td>garissa_04.jpg</td>\n",
              "      <td>real</td>\n",
              "      <td>real</td>\n",
              "    </tr>\n",
              "    <tr>\n",
              "      <th>16322</th>\n",
              "      <td>garissa_04</td>\n",
              "      <td>Is this Garissa Attack?</td>\n",
              "      <td>garissa_04.jpg</td>\n",
              "      <td>real</td>\n",
              "      <td>real</td>\n",
              "    </tr>\n",
              "    <tr>\n",
              "      <th>16323</th>\n",
              "      <td>garissa_04</td>\n",
              "      <td>Is this Garissa Attack?</td>\n",
              "      <td>garissa_04.jpg</td>\n",
              "      <td>real</td>\n",
              "      <td>real</td>\n",
              "    </tr>\n",
              "    <tr>\n",
              "      <th>16324</th>\n",
              "      <td>garissa_04</td>\n",
              "      <td>Is this Garissa Attack?</td>\n",
              "      <td>garissa_04.jpg</td>\n",
              "      <td>real</td>\n",
              "      <td>real</td>\n",
              "    </tr>\n",
              "    <tr>\n",
              "      <th>16325</th>\n",
              "      <td>garissa_04</td>\n",
              "      <td>Is this Garissa Attack?</td>\n",
              "      <td>garissa_04.jpg</td>\n",
              "      <td>real</td>\n",
              "      <td>real</td>\n",
              "    </tr>\n",
              "  </tbody>\n",
              "</table>\n",
              "<p>16326 rows × 5 columns</p>\n",
              "</div>\n",
              "      <button class=\"colab-df-convert\" onclick=\"convertToInteractive('df-486c9dce-67e4-468c-a7aa-812834156d00')\"\n",
              "              title=\"Convert this dataframe to an interactive table.\"\n",
              "              style=\"display:none;\">\n",
              "        \n",
              "  <svg xmlns=\"http://www.w3.org/2000/svg\" height=\"24px\"viewBox=\"0 0 24 24\"\n",
              "       width=\"24px\">\n",
              "    <path d=\"M0 0h24v24H0V0z\" fill=\"none\"/>\n",
              "    <path d=\"M18.56 5.44l.94 2.06.94-2.06 2.06-.94-2.06-.94-.94-2.06-.94 2.06-2.06.94zm-11 1L8.5 8.5l.94-2.06 2.06-.94-2.06-.94L8.5 2.5l-.94 2.06-2.06.94zm10 10l.94 2.06.94-2.06 2.06-.94-2.06-.94-.94-2.06-.94 2.06-2.06.94z\"/><path d=\"M17.41 7.96l-1.37-1.37c-.4-.4-.92-.59-1.43-.59-.52 0-1.04.2-1.43.59L10.3 9.45l-7.72 7.72c-.78.78-.78 2.05 0 2.83L4 21.41c.39.39.9.59 1.41.59.51 0 1.02-.2 1.41-.59l7.78-7.78 2.81-2.81c.8-.78.8-2.07 0-2.86zM5.41 20L4 18.59l7.72-7.72 1.47 1.35L5.41 20z\"/>\n",
              "  </svg>\n",
              "      </button>\n",
              "      \n",
              "  <style>\n",
              "    .colab-df-container {\n",
              "      display:flex;\n",
              "      flex-wrap:wrap;\n",
              "      gap: 12px;\n",
              "    }\n",
              "\n",
              "    .colab-df-convert {\n",
              "      background-color: #E8F0FE;\n",
              "      border: none;\n",
              "      border-radius: 50%;\n",
              "      cursor: pointer;\n",
              "      display: none;\n",
              "      fill: #1967D2;\n",
              "      height: 32px;\n",
              "      padding: 0 0 0 0;\n",
              "      width: 32px;\n",
              "    }\n",
              "\n",
              "    .colab-df-convert:hover {\n",
              "      background-color: #E2EBFA;\n",
              "      box-shadow: 0px 1px 2px rgba(60, 64, 67, 0.3), 0px 1px 3px 1px rgba(60, 64, 67, 0.15);\n",
              "      fill: #174EA6;\n",
              "    }\n",
              "\n",
              "    [theme=dark] .colab-df-convert {\n",
              "      background-color: #3B4455;\n",
              "      fill: #D2E3FC;\n",
              "    }\n",
              "\n",
              "    [theme=dark] .colab-df-convert:hover {\n",
              "      background-color: #434B5C;\n",
              "      box-shadow: 0px 1px 3px 1px rgba(0, 0, 0, 0.15);\n",
              "      filter: drop-shadow(0px 1px 2px rgba(0, 0, 0, 0.3));\n",
              "      fill: #FFFFFF;\n",
              "    }\n",
              "  </style>\n",
              "\n",
              "      <script>\n",
              "        const buttonEl =\n",
              "          document.querySelector('#df-486c9dce-67e4-468c-a7aa-812834156d00 button.colab-df-convert');\n",
              "        buttonEl.style.display =\n",
              "          google.colab.kernel.accessAllowed ? 'block' : 'none';\n",
              "\n",
              "        async function convertToInteractive(key) {\n",
              "          const element = document.querySelector('#df-486c9dce-67e4-468c-a7aa-812834156d00');\n",
              "          const dataTable =\n",
              "            await google.colab.kernel.invokeFunction('convertToInteractive',\n",
              "                                                     [key], {});\n",
              "          if (!dataTable) return;\n",
              "\n",
              "          const docLinkHtml = 'Like what you see? Visit the ' +\n",
              "            '<a target=\"_blank\" href=https://colab.research.google.com/notebooks/data_table.ipynb>data table notebook</a>'\n",
              "            + ' to learn more about interactive tables.';\n",
              "          element.innerHTML = '';\n",
              "          dataTable['output_type'] = 'display_data';\n",
              "          await google.colab.output.renderOutput(dataTable, element);\n",
              "          const docLink = document.createElement('div');\n",
              "          docLink.innerHTML = docLinkHtml;\n",
              "          element.appendChild(docLink);\n",
              "        }\n",
              "      </script>\n",
              "    </div>\n",
              "  </div>\n",
              "  "
            ]
          },
          "metadata": {},
          "execution_count": 100
        }
      ]
    },
    {
      "cell_type": "code",
      "source": [
        "accuracy_score(df['label'], df['pred'])"
      ],
      "metadata": {
        "colab": {
          "base_uri": "https://localhost:8080/"
        },
        "id": "hAJ4BJBtkMqw",
        "outputId": "0c50365b-fa88-46ca-8748-ece68f0f5ad2"
      },
      "execution_count": 101,
      "outputs": [
        {
          "output_type": "execute_result",
          "data": {
            "text/plain": [
              "0.7062354526522112"
            ]
          },
          "metadata": {},
          "execution_count": 101
        }
      ]
    },
    {
      "cell_type": "code",
      "source": [
        "confusion_matrix(df['label'], df['pred'])"
      ],
      "metadata": {
        "colab": {
          "base_uri": "https://localhost:8080/"
        },
        "id": "3AyL_a_dkbgL",
        "outputId": "35314cbb-a286-4a5a-dcf1-40e23003225d"
      },
      "execution_count": 102,
      "outputs": [
        {
          "output_type": "execute_result",
          "data": {
            "text/plain": [
              "array([[8368, 1810],\n",
              "       [2986, 3162]])"
            ]
          },
          "metadata": {},
          "execution_count": 102
        }
      ]
    },
    {
      "cell_type": "code",
      "source": [
        "fig,ax=plt.subplots(figsize=(8,8))\n",
        "ConfusionMatrixDisplay.from_predictions(df['label'], df['pred'], cmap='YlOrRd', ax=ax)\n",
        "plt.title('Confusion Matrix: MediaEval-2015 Stance Dataset')\n",
        "plt.show()"
      ],
      "metadata": {
        "colab": {
          "base_uri": "https://localhost:8080/",
          "height": 653
        },
        "id": "HyBAZ2YLPxVS",
        "outputId": "3da84ce1-930e-400d-9dc5-e921baf9123c"
      },
      "execution_count": 112,
      "outputs": [
        {
          "output_type": "display_data",
          "data": {
            "text/plain": [
              "<Figure size 800x800 with 2 Axes>"
            ],
            "image/png": "[encoded data removed]"
          },
          "metadata": {}
        }
      ]
    },
    {
      "cell_type": "code",
      "source": [
        "print(classification_report(df['label'], df['pred']))"
      ],
      "metadata": {
        "colab": {
          "base_uri": "https://localhost:8080/"
        },
        "id": "4n_qloBNlC98",
        "outputId": "a7c6d980-43b1-4ae7-99c0-1ea1064b70d5"
      },
      "execution_count": 113,
      "outputs": [
        {
          "output_type": "stream",
          "name": "stdout",
          "text": [
            "              precision    recall  f1-score   support\n",
            "\n",
            "        fake       0.74      0.82      0.78     10178\n",
            "        real       0.64      0.51      0.57      6148\n",
            "\n",
            "    accuracy                           0.71     16326\n",
            "   macro avg       0.69      0.67      0.67     16326\n",
            "weighted avg       0.70      0.71      0.70     16326\n",
            "\n"
          ]
        }
      ]
    },
    {
      "cell_type": "code",
      "source": [],
      "metadata": {
        "id": "jhZ-bjM8lI_-"
      },
      "execution_count": null,
      "outputs": []
    }
  ]
}